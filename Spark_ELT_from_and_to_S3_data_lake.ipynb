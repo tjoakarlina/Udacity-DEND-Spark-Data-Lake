{
 "cells": [
  {
   "cell_type": "markdown",
   "id": "cd7f2327-298e-4a5e-bda7-ce9a186361bd",
   "metadata": {},
   "source": [
    "# Using Spark to do ELT from and to S3 Data Lake"
   ]
  },
  {
   "cell_type": "markdown",
   "id": "24f81011-bbc3-4f1c-a48b-89c4e9903622",
   "metadata": {},
   "source": [
    "## Import the necessary libraries"
   ]
  },
  {
   "cell_type": "code",
   "execution_count": 1,
   "id": "0f1c19a8-b56a-42ee-a38f-4f895aea0d2e",
   "metadata": {
    "execution": {
     "iopub.execute_input": "2022-07-23T09:02:59.906169Z",
     "iopub.status.busy": "2022-07-23T09:02:59.905938Z",
     "iopub.status.idle": "2022-07-23T09:04:04.401551Z",
     "shell.execute_reply": "2022-07-23T09:04:04.400946Z",
     "shell.execute_reply.started": "2022-07-23T09:02:59.906144Z"
    },
    "tags": []
   },
   "outputs": [
    {
     "data": {
      "application/vnd.jupyter.widget-view+json": {
       "model_id": "3d3485d1b4094189b9986f8d575967db",
       "version_major": 2,
       "version_minor": 0
      },
      "text/plain": [
       "VBox()"
      ]
     },
     "metadata": {},
     "output_type": "display_data"
    },
    {
     "name": "stdout",
     "output_type": "stream",
     "text": [
      "Starting Spark application\n"
     ]
    },
    {
     "data": {
      "text/html": [
       "<table>\n",
       "<tr><th>ID</th><th>YARN Application ID</th><th>Kind</th><th>State</th><th>Spark UI</th><th>Driver log</th><th>User</th><th>Current session?</th></tr><tr><td>0</td><td>application_1658566576137_0001</td><td>pyspark</td><td>idle</td><td><a target=\"_blank\" href=\"http://ip-172-31-25-48.us-west-2.compute.internal:20888/proxy/application_1658566576137_0001/\" class=\"emr-proxy-link\" emr-resource=\"j-3ELBFS291MZSX\n",
       "\" application-id=\"application_1658566576137_0001\">Link</a></td><td><a target=\"_blank\" href=\"http://ip-172-31-20-83.us-west-2.compute.internal:8042/node/containerlogs/container_1658566576137_0001_01_000001/livy\" >Link</a></td><td>None</td><td>✔</td></tr></table>"
      ],
      "text/plain": [
       "<IPython.core.display.HTML object>"
      ]
     },
     "metadata": {},
     "output_type": "display_data"
    },
    {
     "data": {
      "application/vnd.jupyter.widget-view+json": {
       "model_id": "",
       "version_major": 2,
       "version_minor": 0
      },
      "text/plain": [
       "FloatProgress(value=0.0, bar_style='info', description='Progress:', layout=Layout(height='25px', width='50%'),…"
      ]
     },
     "metadata": {},
     "output_type": "display_data"
    },
    {
     "name": "stdout",
     "output_type": "stream",
     "text": [
      "SparkSession available as 'spark'.\n"
     ]
    },
    {
     "data": {
      "application/vnd.jupyter.widget-view+json": {
       "model_id": "",
       "version_major": 2,
       "version_minor": 0
      },
      "text/plain": [
       "FloatProgress(value=0.0, bar_style='info', description='Progress:', layout=Layout(height='25px', width='50%'),…"
      ]
     },
     "metadata": {},
     "output_type": "display_data"
    }
   ],
   "source": [
    "from pyspark.sql import SparkSession\n",
    "from pyspark.sql.functions import udf, col\n",
    "from pyspark.sql.functions import year, month, dayofmonth, hour, weekofyear, date_format, dayofweek, monotonically_increasing_id\n",
    "from pyspark.sql.types import *\n",
    "import datetime"
   ]
  },
  {
   "cell_type": "markdown",
   "id": "bc21a966-ee00-4156-9213-8920a8fb783c",
   "metadata": {},
   "source": [
    "## Specify the source data path"
   ]
  },
  {
   "cell_type": "code",
   "execution_count": 2,
   "id": "844eaaf4-4cb7-4de6-a9bb-75bb71433469",
   "metadata": {
    "execution": {
     "iopub.execute_input": "2022-07-23T09:04:04.403073Z",
     "iopub.status.busy": "2022-07-23T09:04:04.402828Z",
     "iopub.status.idle": "2022-07-23T09:04:04.476015Z",
     "shell.execute_reply": "2022-07-23T09:04:04.472921Z",
     "shell.execute_reply.started": "2022-07-23T09:04:04.403040Z"
    },
    "tags": []
   },
   "outputs": [
    {
     "data": {
      "application/vnd.jupyter.widget-view+json": {
       "model_id": "a7a1b34ada0e4147922e1cf25d497bfd",
       "version_major": 2,
       "version_minor": 0
      },
      "text/plain": [
       "VBox()"
      ]
     },
     "metadata": {},
     "output_type": "display_data"
    },
    {
     "data": {
      "application/vnd.jupyter.widget-view+json": {
       "model_id": "",
       "version_major": 2,
       "version_minor": 0
      },
      "text/plain": [
       "FloatProgress(value=0.0, bar_style='info', description='Progress:', layout=Layout(height='25px', width='50%'),…"
      ]
     },
     "metadata": {},
     "output_type": "display_data"
    }
   ],
   "source": [
    "song_data_path = \"s3://udacity-dend/song_data/*/*/*/*.json\""
   ]
  },
  {
   "cell_type": "code",
   "execution_count": 3,
   "id": "5ff6d4a2-1208-4358-8f4e-ae7206ffd4a6",
   "metadata": {
    "execution": {
     "iopub.execute_input": "2022-07-23T09:04:04.477955Z",
     "iopub.status.busy": "2022-07-23T09:04:04.477715Z",
     "iopub.status.idle": "2022-07-23T09:04:04.585836Z",
     "shell.execute_reply": "2022-07-23T09:04:04.584934Z",
     "shell.execute_reply.started": "2022-07-23T09:04:04.477921Z"
    },
    "tags": []
   },
   "outputs": [
    {
     "data": {
      "application/vnd.jupyter.widget-view+json": {
       "model_id": "cbcd309af11e42328ec06341ae56ff56",
       "version_major": 2,
       "version_minor": 0
      },
      "text/plain": [
       "VBox()"
      ]
     },
     "metadata": {},
     "output_type": "display_data"
    },
    {
     "data": {
      "application/vnd.jupyter.widget-view+json": {
       "model_id": "",
       "version_major": 2,
       "version_minor": 0
      },
      "text/plain": [
       "FloatProgress(value=0.0, bar_style='info', description='Progress:', layout=Layout(height='25px', width='50%'),…"
      ]
     },
     "metadata": {},
     "output_type": "display_data"
    }
   ],
   "source": [
    "log_data_path = \"s3://udacity-dend/log_data/*/*/*.json\""
   ]
  },
  {
   "cell_type": "markdown",
   "id": "15e43173-6a2e-4877-aa15-8a059a2c63e5",
   "metadata": {},
   "source": [
    "## Specify the target data path"
   ]
  },
  {
   "cell_type": "code",
   "execution_count": 4,
   "id": "da39036d-e4b5-4c12-b56e-dfde516fdbd7",
   "metadata": {
    "execution": {
     "iopub.execute_input": "2022-07-23T09:04:04.587724Z",
     "iopub.status.busy": "2022-07-23T09:04:04.587347Z",
     "iopub.status.idle": "2022-07-23T09:04:04.698804Z",
     "shell.execute_reply": "2022-07-23T09:04:04.698108Z",
     "shell.execute_reply.started": "2022-07-23T09:04:04.587687Z"
    },
    "tags": []
   },
   "outputs": [
    {
     "data": {
      "application/vnd.jupyter.widget-view+json": {
       "model_id": "6c6898428f6949198a17fb81f7993aec",
       "version_major": 2,
       "version_minor": 0
      },
      "text/plain": [
       "VBox()"
      ]
     },
     "metadata": {},
     "output_type": "display_data"
    },
    {
     "data": {
      "application/vnd.jupyter.widget-view+json": {
       "model_id": "",
       "version_major": 2,
       "version_minor": 0
      },
      "text/plain": [
       "FloatProgress(value=0.0, bar_style='info', description='Progress:', layout=Layout(height='25px', width='50%'),…"
      ]
     },
     "metadata": {},
     "output_type": "display_data"
    }
   ],
   "source": [
    "olap_tables_path = \"\""
   ]
  },
  {
   "cell_type": "markdown",
   "id": "4c0c6970-6041-4608-ae1c-c397eaee18ed",
   "metadata": {},
   "source": [
    "## Create Spark Session"
   ]
  },
  {
   "cell_type": "code",
   "execution_count": 5,
   "id": "526efbd6-5cd8-4582-a3ec-af93f15a85c4",
   "metadata": {
    "execution": {
     "iopub.execute_input": "2022-07-23T09:04:04.700243Z",
     "iopub.status.busy": "2022-07-23T09:04:04.699865Z",
     "iopub.status.idle": "2022-07-23T09:04:05.770355Z",
     "shell.execute_reply": "2022-07-23T09:04:05.769581Z",
     "shell.execute_reply.started": "2022-07-23T09:04:04.700205Z"
    },
    "tags": []
   },
   "outputs": [
    {
     "data": {
      "application/vnd.jupyter.widget-view+json": {
       "model_id": "ba6d5b61974e411cbb56b6b634d63e58",
       "version_major": 2,
       "version_minor": 0
      },
      "text/plain": [
       "VBox()"
      ]
     },
     "metadata": {},
     "output_type": "display_data"
    },
    {
     "data": {
      "application/vnd.jupyter.widget-view+json": {
       "model_id": "",
       "version_major": 2,
       "version_minor": 0
      },
      "text/plain": [
       "FloatProgress(value=0.0, bar_style='info', description='Progress:', layout=Layout(height='25px', width='50%'),…"
      ]
     },
     "metadata": {},
     "output_type": "display_data"
    }
   ],
   "source": [
    "spark = SparkSession.builder.appName(\"Sparkify Data Lake\").getOrCreate()"
   ]
  },
  {
   "cell_type": "markdown",
   "id": "e9d6ebda-2549-40fc-b7ad-bcd7f87cfb5f",
   "metadata": {},
   "source": [
    "## Process Song Data"
   ]
  },
  {
   "cell_type": "code",
   "execution_count": 6,
   "id": "5fd8e940-b1dc-4ff0-bac3-772f24bf9ffa",
   "metadata": {
    "execution": {
     "iopub.execute_input": "2022-07-23T09:04:05.771715Z",
     "iopub.status.busy": "2022-07-23T09:04:05.771466Z",
     "iopub.status.idle": "2022-07-23T09:07:54.069200Z",
     "shell.execute_reply": "2022-07-23T09:07:54.068289Z",
     "shell.execute_reply.started": "2022-07-23T09:04:05.771679Z"
    },
    "tags": []
   },
   "outputs": [
    {
     "data": {
      "application/vnd.jupyter.widget-view+json": {
       "model_id": "c041ac1b2b4c444fab2963c96b17aa81",
       "version_major": 2,
       "version_minor": 0
      },
      "text/plain": [
       "VBox()"
      ]
     },
     "metadata": {},
     "output_type": "display_data"
    },
    {
     "data": {
      "application/vnd.jupyter.widget-view+json": {
       "model_id": "",
       "version_major": 2,
       "version_minor": 0
      },
      "text/plain": [
       "FloatProgress(value=0.0, bar_style='info', description='Progress:', layout=Layout(height='25px', width='50%'),…"
      ]
     },
     "metadata": {},
     "output_type": "display_data"
    }
   ],
   "source": [
    "song_data_df = spark.read.json(song_data_path)"
   ]
  },
  {
   "cell_type": "code",
   "execution_count": 7,
   "id": "b9ec3f73-791e-4f2c-80f0-a410f0719eb2",
   "metadata": {
    "execution": {
     "iopub.execute_input": "2022-07-23T09:07:54.070738Z",
     "iopub.status.busy": "2022-07-23T09:07:54.070349Z",
     "iopub.status.idle": "2022-07-23T09:07:54.339658Z",
     "shell.execute_reply": "2022-07-23T09:07:54.339032Z",
     "shell.execute_reply.started": "2022-07-23T09:07:54.070701Z"
    },
    "tags": []
   },
   "outputs": [
    {
     "data": {
      "application/vnd.jupyter.widget-view+json": {
       "model_id": "7a3f2699af83447888e0eb15d5990a6f",
       "version_major": 2,
       "version_minor": 0
      },
      "text/plain": [
       "VBox()"
      ]
     },
     "metadata": {},
     "output_type": "display_data"
    },
    {
     "data": {
      "application/vnd.jupyter.widget-view+json": {
       "model_id": "",
       "version_major": 2,
       "version_minor": 0
      },
      "text/plain": [
       "FloatProgress(value=0.0, bar_style='info', description='Progress:', layout=Layout(height='25px', width='50%'),…"
      ]
     },
     "metadata": {},
     "output_type": "display_data"
    },
    {
     "name": "stdout",
     "output_type": "stream",
     "text": [
      "root\n",
      " |-- artist_id: string (nullable = true)\n",
      " |-- artist_latitude: double (nullable = true)\n",
      " |-- artist_location: string (nullable = true)\n",
      " |-- artist_longitude: double (nullable = true)\n",
      " |-- artist_name: string (nullable = true)\n",
      " |-- duration: double (nullable = true)\n",
      " |-- num_songs: long (nullable = true)\n",
      " |-- song_id: string (nullable = true)\n",
      " |-- title: string (nullable = true)\n",
      " |-- year: long (nullable = true)"
     ]
    }
   ],
   "source": [
    "song_data_df.printSchema()"
   ]
  },
  {
   "cell_type": "code",
   "execution_count": 8,
   "id": "7f031c4f-e401-4309-936e-ca254f7b9101",
   "metadata": {
    "execution": {
     "iopub.execute_input": "2022-07-23T09:07:54.342343Z",
     "iopub.status.busy": "2022-07-23T09:07:54.342088Z",
     "iopub.status.idle": "2022-07-23T09:07:55.630025Z",
     "shell.execute_reply": "2022-07-23T09:07:55.629272Z",
     "shell.execute_reply.started": "2022-07-23T09:07:54.342307Z"
    },
    "tags": []
   },
   "outputs": [
    {
     "data": {
      "application/vnd.jupyter.widget-view+json": {
       "model_id": "31fbae099a4a4221b6dc09b8864c3ff3",
       "version_major": 2,
       "version_minor": 0
      },
      "text/plain": [
       "VBox()"
      ]
     },
     "metadata": {},
     "output_type": "display_data"
    },
    {
     "data": {
      "application/vnd.jupyter.widget-view+json": {
       "model_id": "",
       "version_major": 2,
       "version_minor": 0
      },
      "text/plain": [
       "FloatProgress(value=0.0, bar_style='info', description='Progress:', layout=Layout(height='25px', width='50%'),…"
      ]
     },
     "metadata": {},
     "output_type": "display_data"
    },
    {
     "name": "stdout",
     "output_type": "stream",
     "text": [
      "+------------------+---------------+--------------------+----------------+--------------------+---------+---------+------------------+--------------------+----+\n",
      "|         artist_id|artist_latitude|     artist_location|artist_longitude|         artist_name| duration|num_songs|           song_id|               title|year|\n",
      "+------------------+---------------+--------------------+----------------+--------------------+---------+---------+------------------+--------------------+----+\n",
      "|AR4T2IF1187B9ADBB7|       63.96027|<a href=\"http://b...|        10.22442|          Billy Idol|233.22077|        1|SOVIYJY12AF72A4B00|The Dead Next Doo...|1983|\n",
      "|AR4T2IF1187B9ADBB7|       63.96027|<a href=\"http://b...|        10.22442|          Billy Idol|287.92118|        1|SOVYXYL12AF72A3373|Rebel Yell (1999 ...|1983|\n",
      "|ARQ846I1187B9A7083|           null|                    |            null|Yvonne S. Moriart...|196.04853|        1|SOEPTVC12A67ADD0DA|To Zucchabar [\"Gl...|   0|\n",
      "|AR4T2IF1187B9ADBB7|       63.96027|<a href=\"http://b...|        10.22442|          Billy Idol|247.53587|        1|SOLQYSZ12AB0181F97|    Mony Mony (Live)|1987|\n",
      "|AR3TZ691187FB3DBB1|           null|                    |            null|Russell Watson / ...|273.44934|        1|SOVPFJK12A6701CB16|Barcelona - (Frie...|2000|\n",
      "+------------------+---------------+--------------------+----------------+--------------------+---------+---------+------------------+--------------------+----+\n",
      "only showing top 5 rows"
     ]
    }
   ],
   "source": [
    "song_data_df.show(5)"
   ]
  },
  {
   "cell_type": "markdown",
   "id": "c20bb3f9-dfd7-4c33-85fc-505222d7fc26",
   "metadata": {},
   "source": [
    "### Create songs_table"
   ]
  },
  {
   "cell_type": "code",
   "execution_count": 9,
   "id": "950f36ee-208a-4b0c-a9a1-57270227a65a",
   "metadata": {
    "execution": {
     "iopub.execute_input": "2022-07-23T09:07:55.632078Z",
     "iopub.status.busy": "2022-07-23T09:07:55.631830Z",
     "iopub.status.idle": "2022-07-23T09:07:55.935740Z",
     "shell.execute_reply": "2022-07-23T09:07:55.935115Z",
     "shell.execute_reply.started": "2022-07-23T09:07:55.632042Z"
    },
    "tags": []
   },
   "outputs": [
    {
     "data": {
      "application/vnd.jupyter.widget-view+json": {
       "model_id": "e817e03d7d52470eaac36f12ac80271e",
       "version_major": 2,
       "version_minor": 0
      },
      "text/plain": [
       "VBox()"
      ]
     },
     "metadata": {},
     "output_type": "display_data"
    },
    {
     "data": {
      "application/vnd.jupyter.widget-view+json": {
       "model_id": "",
       "version_major": 2,
       "version_minor": 0
      },
      "text/plain": [
       "FloatProgress(value=0.0, bar_style='info', description='Progress:', layout=Layout(height='25px', width='50%'),…"
      ]
     },
     "metadata": {},
     "output_type": "display_data"
    }
   ],
   "source": [
    "songs_table = song_data_df.dropDuplicates(['song_id']).select(\"song_id\", \"title\", \"artist_id\", \"duration\", \"year\")"
   ]
  },
  {
   "cell_type": "code",
   "execution_count": 10,
   "id": "4e8e8156-f662-4067-8ea2-d635f6e59c6b",
   "metadata": {
    "execution": {
     "iopub.execute_input": "2022-07-23T09:07:55.936760Z",
     "iopub.status.busy": "2022-07-23T09:07:55.936586Z",
     "iopub.status.idle": "2022-07-23T09:09:43.638833Z",
     "shell.execute_reply": "2022-07-23T09:09:43.637930Z",
     "shell.execute_reply.started": "2022-07-23T09:07:55.936738Z"
    },
    "tags": []
   },
   "outputs": [
    {
     "data": {
      "application/vnd.jupyter.widget-view+json": {
       "model_id": "86caf3b9850f40aa9f6a6abd76b70a7f",
       "version_major": 2,
       "version_minor": 0
      },
      "text/plain": [
       "VBox()"
      ]
     },
     "metadata": {},
     "output_type": "display_data"
    },
    {
     "data": {
      "application/vnd.jupyter.widget-view+json": {
       "model_id": "",
       "version_major": 2,
       "version_minor": 0
      },
      "text/plain": [
       "FloatProgress(value=0.0, bar_style='info', description='Progress:', layout=Layout(height='25px', width='50%'),…"
      ]
     },
     "metadata": {},
     "output_type": "display_data"
    },
    {
     "name": "stdout",
     "output_type": "stream",
     "text": [
      "+------------------+-------------------+------------------+---------+----+\n",
      "|           song_id|              title|         artist_id| duration|year|\n",
      "+------------------+-------------------+------------------+---------+----+\n",
      "|SOAACFC12A8C140567|Supernatural Pt. II|ARNHTE41187B99289A|343.09179|   0|\n",
      "|SOABVPU12AB018AA22|         Conquer Me|ARZZRK91187B9A5CA5|180.53179|2009|\n",
      "|SOABWGO12AB0182725|I'm Just A Prisoner|ARCCX2V1187B99DEE6|192.88771|1976|\n",
      "|SOACEFM12A8C137F81|    Somos La Ciudad|ARXQBVT11F4C83B62C|283.81995|   0|\n",
      "|SOAEGIH12A6D4F8B51|     I Can't Decide|ARY2Z6Y1187B9BA126|166.53016|2006|\n",
      "+------------------+-------------------+------------------+---------+----+\n",
      "only showing top 5 rows"
     ]
    }
   ],
   "source": [
    "songs_table.show(5)"
   ]
  },
  {
   "cell_type": "code",
   "execution_count": 11,
   "id": "d681f280-63bf-43e3-aaaa-d3fe76ac50c0",
   "metadata": {
    "execution": {
     "iopub.execute_input": "2022-07-23T09:09:43.640430Z",
     "iopub.status.busy": "2022-07-23T09:09:43.640159Z",
     "iopub.status.idle": "2022-07-23T09:17:00.234101Z",
     "shell.execute_reply": "2022-07-23T09:17:00.233534Z",
     "shell.execute_reply.started": "2022-07-23T09:09:43.640393Z"
    },
    "tags": []
   },
   "outputs": [
    {
     "data": {
      "application/vnd.jupyter.widget-view+json": {
       "model_id": "34eb252f82df47d5a8fd77e20ba180b8",
       "version_major": 2,
       "version_minor": 0
      },
      "text/plain": [
       "VBox()"
      ]
     },
     "metadata": {},
     "output_type": "display_data"
    },
    {
     "data": {
      "application/vnd.jupyter.widget-view+json": {
       "model_id": "",
       "version_major": 2,
       "version_minor": 0
      },
      "text/plain": [
       "FloatProgress(value=0.0, bar_style='info', description='Progress:', layout=Layout(height='25px', width='50%'),…"
      ]
     },
     "metadata": {},
     "output_type": "display_data"
    }
   ],
   "source": [
    "songs_table.write.partitionBy(\"year\",\"artist_id\").mode(\"overwrite\").parquet(f\"{olap_tables_path}/songs_table.parquet\")"
   ]
  },
  {
   "cell_type": "markdown",
   "id": "9cae0261-140c-4bcb-95b8-c01e6d3e495d",
   "metadata": {},
   "source": [
    "### Create artists_table"
   ]
  },
  {
   "cell_type": "code",
   "execution_count": 12,
   "id": "abede84d-75c6-4d31-a972-91dfadbeffbd",
   "metadata": {
    "execution": {
     "iopub.execute_input": "2022-07-23T09:17:00.235454Z",
     "iopub.status.busy": "2022-07-23T09:17:00.235193Z",
     "iopub.status.idle": "2022-07-23T09:17:00.504386Z",
     "shell.execute_reply": "2022-07-23T09:17:00.503637Z",
     "shell.execute_reply.started": "2022-07-23T09:17:00.235419Z"
    },
    "tags": []
   },
   "outputs": [
    {
     "data": {
      "application/vnd.jupyter.widget-view+json": {
       "model_id": "6add2a4ad9fb4038b00eee27313fd200",
       "version_major": 2,
       "version_minor": 0
      },
      "text/plain": [
       "VBox()"
      ]
     },
     "metadata": {},
     "output_type": "display_data"
    },
    {
     "data": {
      "application/vnd.jupyter.widget-view+json": {
       "model_id": "",
       "version_major": 2,
       "version_minor": 0
      },
      "text/plain": [
       "FloatProgress(value=0.0, bar_style='info', description='Progress:', layout=Layout(height='25px', width='50%'),…"
      ]
     },
     "metadata": {},
     "output_type": "display_data"
    }
   ],
   "source": [
    "artists_table = song_data_df.dropDuplicates(['artist_id']).select(\"artist_id\", col(\"artist_name\").alias(\"name\"),col(\"artist_location\").alias(\"location\"), col(\"artist_latitude\").alias(\"latitude\"), col(\"artist_longitude\").alias(\"longitude\"))"
   ]
  },
  {
   "cell_type": "code",
   "execution_count": 13,
   "id": "92fe4520-06ab-46e3-998f-26f8c8352abb",
   "metadata": {
    "execution": {
     "iopub.execute_input": "2022-07-23T09:17:00.505429Z",
     "iopub.status.busy": "2022-07-23T09:17:00.505263Z",
     "iopub.status.idle": "2022-07-23T09:18:50.104127Z",
     "shell.execute_reply": "2022-07-23T09:18:50.103413Z",
     "shell.execute_reply.started": "2022-07-23T09:17:00.505408Z"
    },
    "tags": []
   },
   "outputs": [
    {
     "data": {
      "application/vnd.jupyter.widget-view+json": {
       "model_id": "f254e694f3cf423ba4174cf2ebdd813b",
       "version_major": 2,
       "version_minor": 0
      },
      "text/plain": [
       "VBox()"
      ]
     },
     "metadata": {},
     "output_type": "display_data"
    },
    {
     "data": {
      "application/vnd.jupyter.widget-view+json": {
       "model_id": "",
       "version_major": 2,
       "version_minor": 0
      },
      "text/plain": [
       "FloatProgress(value=0.0, bar_style='info', description='Progress:', layout=Layout(height='25px', width='50%'),…"
      ]
     },
     "metadata": {},
     "output_type": "display_data"
    },
    {
     "name": "stdout",
     "output_type": "stream",
     "text": [
      "+------------------+--------------------+--------+--------+---------+\n",
      "|         artist_id|                name|location|latitude|longitude|\n",
      "+------------------+--------------------+--------+--------+---------+\n",
      "|AR04BF811A348F050D|  Teenagers In Tokyo|        |    null|     null|\n",
      "|AR04KY61187FB44E3A|         Fidel Nadal|        |    null|     null|\n",
      "|AR04NH21187FB4485B|      Demise Of Eros|        |    null|     null|\n",
      "|AR05KAM1187B9B6F55|           Cal Smith|Gans, OK|35.38716|-94.69444|\n",
      "|AR05TTS11C8A422FEC|Westbam And The L...|        |    null|     null|\n",
      "+------------------+--------------------+--------+--------+---------+\n",
      "only showing top 5 rows"
     ]
    }
   ],
   "source": [
    "artists_table.show(5)"
   ]
  },
  {
   "cell_type": "code",
   "execution_count": 14,
   "id": "ca8b3cdb-eed7-4a09-98c4-a3da1a8a53e5",
   "metadata": {
    "execution": {
     "iopub.execute_input": "2022-07-23T09:18:50.105621Z",
     "iopub.status.busy": "2022-07-23T09:18:50.105354Z",
     "iopub.status.idle": "2022-07-23T09:20:39.712880Z",
     "shell.execute_reply": "2022-07-23T09:20:39.712181Z",
     "shell.execute_reply.started": "2022-07-23T09:18:50.105584Z"
    },
    "tags": []
   },
   "outputs": [
    {
     "data": {
      "application/vnd.jupyter.widget-view+json": {
       "model_id": "4226c7d9a27149dcbd2cd74cec6fe684",
       "version_major": 2,
       "version_minor": 0
      },
      "text/plain": [
       "VBox()"
      ]
     },
     "metadata": {},
     "output_type": "display_data"
    },
    {
     "data": {
      "application/vnd.jupyter.widget-view+json": {
       "model_id": "",
       "version_major": 2,
       "version_minor": 0
      },
      "text/plain": [
       "FloatProgress(value=0.0, bar_style='info', description='Progress:', layout=Layout(height='25px', width='50%'),…"
      ]
     },
     "metadata": {},
     "output_type": "display_data"
    }
   ],
   "source": [
    "artists_table.write.mode(\"overwrite\").parquet(f\"{olap_tables_path}/artists_table.parquet\")"
   ]
  },
  {
   "cell_type": "markdown",
   "id": "91c18576-d358-4fb3-a1ca-3b70a6e46268",
   "metadata": {},
   "source": [
    "## Process Log Data"
   ]
  },
  {
   "cell_type": "code",
   "execution_count": 15,
   "id": "3e01a942-ec06-4183-bf68-62cfb35579ff",
   "metadata": {
    "execution": {
     "iopub.execute_input": "2022-07-23T09:20:39.713923Z",
     "iopub.status.busy": "2022-07-23T09:20:39.713763Z",
     "iopub.status.idle": "2022-07-23T09:20:41.994419Z",
     "shell.execute_reply": "2022-07-23T09:20:41.993822Z",
     "shell.execute_reply.started": "2022-07-23T09:20:39.713903Z"
    },
    "tags": []
   },
   "outputs": [
    {
     "data": {
      "application/vnd.jupyter.widget-view+json": {
       "model_id": "ec9075a14dda4b93ba4298c51b149aa9",
       "version_major": 2,
       "version_minor": 0
      },
      "text/plain": [
       "VBox()"
      ]
     },
     "metadata": {},
     "output_type": "display_data"
    },
    {
     "data": {
      "application/vnd.jupyter.widget-view+json": {
       "model_id": "",
       "version_major": 2,
       "version_minor": 0
      },
      "text/plain": [
       "FloatProgress(value=0.0, bar_style='info', description='Progress:', layout=Layout(height='25px', width='50%'),…"
      ]
     },
     "metadata": {},
     "output_type": "display_data"
    }
   ],
   "source": [
    "log_data_df = spark.read.json(log_data_path)"
   ]
  },
  {
   "cell_type": "code",
   "execution_count": 16,
   "id": "64ad82b9-a7ac-4939-a65b-08c90ce1a738",
   "metadata": {
    "execution": {
     "iopub.execute_input": "2022-07-23T09:20:41.995730Z",
     "iopub.status.busy": "2022-07-23T09:20:41.995485Z",
     "iopub.status.idle": "2022-07-23T09:20:42.228157Z",
     "shell.execute_reply": "2022-07-23T09:20:42.142345Z",
     "shell.execute_reply.started": "2022-07-23T09:20:41.995696Z"
    },
    "tags": []
   },
   "outputs": [
    {
     "data": {
      "application/vnd.jupyter.widget-view+json": {
       "model_id": "e0cc20cb59ef4a49812b4406e634bf4d",
       "version_major": 2,
       "version_minor": 0
      },
      "text/plain": [
       "VBox()"
      ]
     },
     "metadata": {},
     "output_type": "display_data"
    },
    {
     "data": {
      "application/vnd.jupyter.widget-view+json": {
       "model_id": "",
       "version_major": 2,
       "version_minor": 0
      },
      "text/plain": [
       "FloatProgress(value=0.0, bar_style='info', description='Progress:', layout=Layout(height='25px', width='50%'),…"
      ]
     },
     "metadata": {},
     "output_type": "display_data"
    },
    {
     "name": "stdout",
     "output_type": "stream",
     "text": [
      "root\n",
      " |-- artist: string (nullable = true)\n",
      " |-- auth: string (nullable = true)\n",
      " |-- firstName: string (nullable = true)\n",
      " |-- gender: string (nullable = true)\n",
      " |-- itemInSession: long (nullable = true)\n",
      " |-- lastName: string (nullable = true)\n",
      " |-- length: double (nullable = true)\n",
      " |-- level: string (nullable = true)\n",
      " |-- location: string (nullable = true)\n",
      " |-- method: string (nullable = true)\n",
      " |-- page: string (nullable = true)\n",
      " |-- registration: double (nullable = true)\n",
      " |-- sessionId: long (nullable = true)\n",
      " |-- song: string (nullable = true)\n",
      " |-- status: long (nullable = true)\n",
      " |-- ts: long (nullable = true)\n",
      " |-- userAgent: string (nullable = true)\n",
      " |-- userId: string (nullable = true)"
     ]
    }
   ],
   "source": [
    "log_data_df.printSchema()"
   ]
  },
  {
   "cell_type": "code",
   "execution_count": 17,
   "id": "803efec0-5988-426d-a4a7-d1561bffd493",
   "metadata": {
    "execution": {
     "iopub.execute_input": "2022-07-23T09:20:42.229266Z",
     "iopub.status.busy": "2022-07-23T09:20:42.229079Z",
     "iopub.status.idle": "2022-07-23T09:20:43.187031Z",
     "shell.execute_reply": "2022-07-23T09:20:43.186329Z",
     "shell.execute_reply.started": "2022-07-23T09:20:42.229243Z"
    },
    "tags": []
   },
   "outputs": [
    {
     "data": {
      "application/vnd.jupyter.widget-view+json": {
       "model_id": "7d0df17beb2f474b92ff915f9f83c56e",
       "version_major": 2,
       "version_minor": 0
      },
      "text/plain": [
       "VBox()"
      ]
     },
     "metadata": {},
     "output_type": "display_data"
    },
    {
     "data": {
      "application/vnd.jupyter.widget-view+json": {
       "model_id": "",
       "version_major": 2,
       "version_minor": 0
      },
      "text/plain": [
       "FloatProgress(value=0.0, bar_style='info', description='Progress:', layout=Layout(height='25px', width='50%'),…"
      ]
     },
     "metadata": {},
     "output_type": "display_data"
    },
    {
     "name": "stdout",
     "output_type": "stream",
     "text": [
      "+-----------+---------+---------+------+-------------+--------+---------+-----+--------------------+------+--------+-----------------+---------+---------------+------+-------------+--------------------+------+\n",
      "|     artist|     auth|firstName|gender|itemInSession|lastName|   length|level|            location|method|    page|     registration|sessionId|           song|status|           ts|           userAgent|userId|\n",
      "+-----------+---------+---------+------+-------------+--------+---------+-----+--------------------+------+--------+-----------------+---------+---------------+------+-------------+--------------------+------+\n",
      "|   Harmonia|Logged In|     Ryan|     M|            0|   Smith|655.77751| free|San Jose-Sunnyval...|   PUT|NextSong|1.541016707796E12|      583|  Sehr kosmisch|   200|1542241826796|\"Mozilla/5.0 (X11...|    26|\n",
      "|The Prodigy|Logged In|     Ryan|     M|            1|   Smith|260.07465| free|San Jose-Sunnyval...|   PUT|NextSong|1.541016707796E12|      583|The Big Gundown|   200|1542242481796|\"Mozilla/5.0 (X11...|    26|\n",
      "|      Train|Logged In|     Ryan|     M|            2|   Smith|205.45261| free|San Jose-Sunnyval...|   PUT|NextSong|1.541016707796E12|      583|       Marry Me|   200|1542242741796|\"Mozilla/5.0 (X11...|    26|\n",
      "|       null|Logged In|    Wyatt|     M|            0|   Scott|     null| free|Eureka-Arcata-For...|   GET|    Home|1.540872073796E12|      563|           null|   200|1542247071796|Mozilla/5.0 (Wind...|     9|\n",
      "|       null|Logged In|   Austin|     M|            0| Rosales|     null| free|New York-Newark-J...|   GET|    Home|1.541059521796E12|      521|           null|   200|1542252577796|Mozilla/5.0 (Wind...|    12|\n",
      "+-----------+---------+---------+------+-------------+--------+---------+-----+--------------------+------+--------+-----------------+---------+---------------+------+-------------+--------------------+------+\n",
      "only showing top 5 rows"
     ]
    }
   ],
   "source": [
    "log_data_df.show(5)"
   ]
  },
  {
   "cell_type": "markdown",
   "id": "febf9eb9-999a-4835-8472-16ba62cdf864",
   "metadata": {},
   "source": [
    "### Filter log_data only for page=\"NextSong\""
   ]
  },
  {
   "cell_type": "code",
   "execution_count": 18,
   "id": "c1d36c72-fb98-459b-9bae-2d9075ec7865",
   "metadata": {
    "execution": {
     "iopub.execute_input": "2022-07-23T09:20:43.188099Z",
     "iopub.status.busy": "2022-07-23T09:20:43.187925Z",
     "iopub.status.idle": "2022-07-23T09:20:43.453151Z",
     "shell.execute_reply": "2022-07-23T09:20:43.452502Z",
     "shell.execute_reply.started": "2022-07-23T09:20:43.188077Z"
    },
    "tags": []
   },
   "outputs": [
    {
     "data": {
      "application/vnd.jupyter.widget-view+json": {
       "model_id": "0aaa3e3a85c84db6bbe088414ba1b35b",
       "version_major": 2,
       "version_minor": 0
      },
      "text/plain": [
       "VBox()"
      ]
     },
     "metadata": {},
     "output_type": "display_data"
    },
    {
     "data": {
      "application/vnd.jupyter.widget-view+json": {
       "model_id": "",
       "version_major": 2,
       "version_minor": 0
      },
      "text/plain": [
       "FloatProgress(value=0.0, bar_style='info', description='Progress:', layout=Layout(height='25px', width='50%'),…"
      ]
     },
     "metadata": {},
     "output_type": "display_data"
    }
   ],
   "source": [
    "log_data_df=log_data_df.filter(log_data_df.page==\"NextSong\")"
   ]
  },
  {
   "cell_type": "markdown",
   "id": "cb90fcd1-c6f8-4a3a-a449-18b00ab99884",
   "metadata": {},
   "source": [
    "### Create users_table"
   ]
  },
  {
   "cell_type": "code",
   "execution_count": 19,
   "id": "203efed7-ec5d-4810-9eba-7c532ddceee4",
   "metadata": {
    "execution": {
     "iopub.execute_input": "2022-07-23T09:20:43.454457Z",
     "iopub.status.busy": "2022-07-23T09:20:43.454211Z",
     "iopub.status.idle": "2022-07-23T09:20:43.515457Z",
     "shell.execute_reply": "2022-07-23T09:20:43.514878Z",
     "shell.execute_reply.started": "2022-07-23T09:20:43.454423Z"
    },
    "tags": []
   },
   "outputs": [
    {
     "data": {
      "application/vnd.jupyter.widget-view+json": {
       "model_id": "c276205b139e47f083492e53708d2f83",
       "version_major": 2,
       "version_minor": 0
      },
      "text/plain": [
       "VBox()"
      ]
     },
     "metadata": {},
     "output_type": "display_data"
    },
    {
     "data": {
      "application/vnd.jupyter.widget-view+json": {
       "model_id": "",
       "version_major": 2,
       "version_minor": 0
      },
      "text/plain": [
       "FloatProgress(value=0.0, bar_style='info', description='Progress:', layout=Layout(height='25px', width='50%'),…"
      ]
     },
     "metadata": {},
     "output_type": "display_data"
    }
   ],
   "source": [
    "users_table = log_data_df.dropDuplicates([\"userId\"]).select(col(\"userId\").alias(\"user_id\"), col(\"firstName\").alias(\"first_name\"), col(\"lastName\").alias(\"last_name\"), \"gender\", \"level\")"
   ]
  },
  {
   "cell_type": "code",
   "execution_count": 20,
   "id": "6f59b29d-f4ca-4b56-86c9-c7881de7e276",
   "metadata": {
    "execution": {
     "iopub.execute_input": "2022-07-23T09:20:43.516509Z",
     "iopub.status.busy": "2022-07-23T09:20:43.516322Z",
     "iopub.status.idle": "2022-07-23T09:20:44.798321Z",
     "shell.execute_reply": "2022-07-23T09:20:44.797676Z",
     "shell.execute_reply.started": "2022-07-23T09:20:43.516486Z"
    },
    "tags": []
   },
   "outputs": [
    {
     "data": {
      "application/vnd.jupyter.widget-view+json": {
       "model_id": "db0ad7df67b94dc1afd24e3d06e74cdc",
       "version_major": 2,
       "version_minor": 0
      },
      "text/plain": [
       "VBox()"
      ]
     },
     "metadata": {},
     "output_type": "display_data"
    },
    {
     "data": {
      "application/vnd.jupyter.widget-view+json": {
       "model_id": "",
       "version_major": 2,
       "version_minor": 0
      },
      "text/plain": [
       "FloatProgress(value=0.0, bar_style='info', description='Progress:', layout=Layout(height='25px', width='50%'),…"
      ]
     },
     "metadata": {},
     "output_type": "display_data"
    },
    {
     "name": "stdout",
     "output_type": "stream",
     "text": [
      "+-------+----------+---------+------+-----+\n",
      "|user_id|first_name|last_name|gender|level|\n",
      "+-------+----------+---------+------+-----+\n",
      "|     18|     Jacob|   Rogers|     M| free|\n",
      "|     27|    Carlos|   Carter|     M| free|\n",
      "|     61|    Samuel| Gonzalez|     M| free|\n",
      "|      7|    Adelyn|   Jordan|     F| free|\n",
      "|     26|      Ryan|    Smith|     M| free|\n",
      "+-------+----------+---------+------+-----+\n",
      "only showing top 5 rows"
     ]
    }
   ],
   "source": [
    "users_table.show(5)"
   ]
  },
  {
   "cell_type": "code",
   "execution_count": 21,
   "id": "4a9c28ff-3211-4041-a29c-3750414ffb1d",
   "metadata": {
    "execution": {
     "iopub.execute_input": "2022-07-23T09:20:44.799600Z",
     "iopub.status.busy": "2022-07-23T09:20:44.799358Z",
     "iopub.status.idle": "2022-07-23T09:20:48.097145Z",
     "shell.execute_reply": "2022-07-23T09:20:48.096371Z",
     "shell.execute_reply.started": "2022-07-23T09:20:44.799567Z"
    },
    "tags": []
   },
   "outputs": [
    {
     "data": {
      "application/vnd.jupyter.widget-view+json": {
       "model_id": "5b545054b03943fc93c15db41592e7da",
       "version_major": 2,
       "version_minor": 0
      },
      "text/plain": [
       "VBox()"
      ]
     },
     "metadata": {},
     "output_type": "display_data"
    },
    {
     "data": {
      "application/vnd.jupyter.widget-view+json": {
       "model_id": "",
       "version_major": 2,
       "version_minor": 0
      },
      "text/plain": [
       "FloatProgress(value=0.0, bar_style='info', description='Progress:', layout=Layout(height='25px', width='50%'),…"
      ]
     },
     "metadata": {},
     "output_type": "display_data"
    }
   ],
   "source": [
    "users_table.write.mode(\"overwrite\").parquet(f\"{olap_tables_path}/users_table.parquet\")"
   ]
  },
  {
   "cell_type": "markdown",
   "id": "eaa39677-9897-44ec-b9c2-12080697c4c4",
   "metadata": {},
   "source": [
    "### Create time_table"
   ]
  },
  {
   "cell_type": "code",
   "execution_count": 22,
   "id": "d872dd22-74eb-48aa-ad6f-e9a42fb0bee0",
   "metadata": {
    "execution": {
     "iopub.execute_input": "2022-07-23T09:20:48.098589Z",
     "iopub.status.busy": "2022-07-23T09:20:48.098327Z",
     "iopub.status.idle": "2022-07-23T09:20:48.185681Z",
     "shell.execute_reply": "2022-07-23T09:20:48.184967Z",
     "shell.execute_reply.started": "2022-07-23T09:20:48.098556Z"
    },
    "tags": []
   },
   "outputs": [
    {
     "data": {
      "application/vnd.jupyter.widget-view+json": {
       "model_id": "ed233004f2aa4ebf8442adb3cac6a282",
       "version_major": 2,
       "version_minor": 0
      },
      "text/plain": [
       "VBox()"
      ]
     },
     "metadata": {},
     "output_type": "display_data"
    },
    {
     "data": {
      "application/vnd.jupyter.widget-view+json": {
       "model_id": "",
       "version_major": 2,
       "version_minor": 0
      },
      "text/plain": [
       "FloatProgress(value=0.0, bar_style='info', description='Progress:', layout=Layout(height='25px', width='50%'),…"
      ]
     },
     "metadata": {},
     "output_type": "display_data"
    }
   ],
   "source": [
    "# Create function to convert ts (in miliseconds) to timestamp type\n",
    "get_timestamp = udf(lambda x: datetime.datetime.fromtimestamp(x / 1000.0),TimestampType())"
   ]
  },
  {
   "cell_type": "code",
   "execution_count": 23,
   "id": "dafea43d-4562-4176-9d93-2eb5d4c34b0f",
   "metadata": {
    "execution": {
     "iopub.execute_input": "2022-07-23T09:20:48.188998Z",
     "iopub.status.busy": "2022-07-23T09:20:48.188777Z",
     "iopub.status.idle": "2022-07-23T09:20:48.459417Z",
     "shell.execute_reply": "2022-07-23T09:20:48.458655Z",
     "shell.execute_reply.started": "2022-07-23T09:20:48.188973Z"
    },
    "tags": []
   },
   "outputs": [
    {
     "data": {
      "application/vnd.jupyter.widget-view+json": {
       "model_id": "7ee8038898c94154a5b474e14d07c63d",
       "version_major": 2,
       "version_minor": 0
      },
      "text/plain": [
       "VBox()"
      ]
     },
     "metadata": {},
     "output_type": "display_data"
    },
    {
     "data": {
      "application/vnd.jupyter.widget-view+json": {
       "model_id": "",
       "version_major": 2,
       "version_minor": 0
      },
      "text/plain": [
       "FloatProgress(value=0.0, bar_style='info', description='Progress:', layout=Layout(height='25px', width='50%'),…"
      ]
     },
     "metadata": {},
     "output_type": "display_data"
    }
   ],
   "source": [
    "log_data_df = log_data_df.withColumn(\"timestamp\", get_timestamp(\"ts\"))"
   ]
  },
  {
   "cell_type": "code",
   "execution_count": 24,
   "id": "0e771569-25ae-4e95-9945-5fdf635b9515",
   "metadata": {
    "execution": {
     "iopub.execute_input": "2022-07-23T09:20:48.461158Z",
     "iopub.status.busy": "2022-07-23T09:20:48.460758Z",
     "iopub.status.idle": "2022-07-23T09:20:55.785797Z",
     "shell.execute_reply": "2022-07-23T09:20:55.785226Z",
     "shell.execute_reply.started": "2022-07-23T09:20:48.461124Z"
    },
    "tags": []
   },
   "outputs": [
    {
     "data": {
      "application/vnd.jupyter.widget-view+json": {
       "model_id": "fbcd609c6d314a9c861c4a2e3499fa91",
       "version_major": 2,
       "version_minor": 0
      },
      "text/plain": [
       "VBox()"
      ]
     },
     "metadata": {},
     "output_type": "display_data"
    },
    {
     "data": {
      "application/vnd.jupyter.widget-view+json": {
       "model_id": "",
       "version_major": 2,
       "version_minor": 0
      },
      "text/plain": [
       "FloatProgress(value=0.0, bar_style='info', description='Progress:', layout=Layout(height='25px', width='50%'),…"
      ]
     },
     "metadata": {},
     "output_type": "display_data"
    },
    {
     "name": "stdout",
     "output_type": "stream",
     "text": [
      "+-----------+---------+---------+------+-------------+--------+---------+-----+--------------------+------+--------+-----------------+---------+--------------------+------+-------------+--------------------+------+--------------------+\n",
      "|     artist|     auth|firstName|gender|itemInSession|lastName|   length|level|            location|method|    page|     registration|sessionId|                song|status|           ts|           userAgent|userId|           timestamp|\n",
      "+-----------+---------+---------+------+-------------+--------+---------+-----+--------------------+------+--------+-----------------+---------+--------------------+------+-------------+--------------------+------+--------------------+\n",
      "|   Harmonia|Logged In|     Ryan|     M|            0|   Smith|655.77751| free|San Jose-Sunnyval...|   PUT|NextSong|1.541016707796E12|      583|       Sehr kosmisch|   200|1542241826796|\"Mozilla/5.0 (X11...|    26|2018-11-15 00:30:...|\n",
      "|The Prodigy|Logged In|     Ryan|     M|            1|   Smith|260.07465| free|San Jose-Sunnyval...|   PUT|NextSong|1.541016707796E12|      583|     The Big Gundown|   200|1542242481796|\"Mozilla/5.0 (X11...|    26|2018-11-15 00:41:...|\n",
      "|      Train|Logged In|     Ryan|     M|            2|   Smith|205.45261| free|San Jose-Sunnyval...|   PUT|NextSong|1.541016707796E12|      583|            Marry Me|   200|1542242741796|\"Mozilla/5.0 (X11...|    26|2018-11-15 00:45:...|\n",
      "|Sony Wonder|Logged In|   Samuel|     M|            0|Gonzalez|218.06975| free|Houston-The Woodl...|   PUT|NextSong|1.540492941796E12|      597|           Blackbird|   200|1542253449796|\"Mozilla/5.0 (Mac...|    61|2018-11-15 03:44:...|\n",
      "|  Van Halen|Logged In|    Tegan|     F|            2|  Levine|289.38404| paid|Portland-South Po...|   PUT|NextSong|1.540794356796E12|      602|Best Of Both Worl...|   200|1542260935796|\"Mozilla/5.0 (Mac...|    80|2018-11-15 05:48:...|\n",
      "+-----------+---------+---------+------+-------------+--------+---------+-----+--------------------+------+--------+-----------------+---------+--------------------+------+-------------+--------------------+------+--------------------+\n",
      "only showing top 5 rows"
     ]
    }
   ],
   "source": [
    "log_data_df.show(5)"
   ]
  },
  {
   "cell_type": "code",
   "execution_count": 25,
   "id": "35d0f578-a096-4d04-b5c0-f2fc3d786843",
   "metadata": {
    "execution": {
     "iopub.execute_input": "2022-07-23T09:20:55.786881Z",
     "iopub.status.busy": "2022-07-23T09:20:55.786708Z",
     "iopub.status.idle": "2022-07-23T09:20:55.839207Z",
     "shell.execute_reply": "2022-07-23T09:20:55.838482Z",
     "shell.execute_reply.started": "2022-07-23T09:20:55.786859Z"
    },
    "tags": []
   },
   "outputs": [
    {
     "data": {
      "application/vnd.jupyter.widget-view+json": {
       "model_id": "542378831cba4b6595733c9e73e3390a",
       "version_major": 2,
       "version_minor": 0
      },
      "text/plain": [
       "VBox()"
      ]
     },
     "metadata": {},
     "output_type": "display_data"
    },
    {
     "data": {
      "application/vnd.jupyter.widget-view+json": {
       "model_id": "",
       "version_major": 2,
       "version_minor": 0
      },
      "text/plain": [
       "FloatProgress(value=0.0, bar_style='info', description='Progress:', layout=Layout(height='25px', width='50%'),…"
      ]
     },
     "metadata": {},
     "output_type": "display_data"
    },
    {
     "name": "stdout",
     "output_type": "stream",
     "text": [
      "root\n",
      " |-- artist: string (nullable = true)\n",
      " |-- auth: string (nullable = true)\n",
      " |-- firstName: string (nullable = true)\n",
      " |-- gender: string (nullable = true)\n",
      " |-- itemInSession: long (nullable = true)\n",
      " |-- lastName: string (nullable = true)\n",
      " |-- length: double (nullable = true)\n",
      " |-- level: string (nullable = true)\n",
      " |-- location: string (nullable = true)\n",
      " |-- method: string (nullable = true)\n",
      " |-- page: string (nullable = true)\n",
      " |-- registration: double (nullable = true)\n",
      " |-- sessionId: long (nullable = true)\n",
      " |-- song: string (nullable = true)\n",
      " |-- status: long (nullable = true)\n",
      " |-- ts: long (nullable = true)\n",
      " |-- userAgent: string (nullable = true)\n",
      " |-- userId: string (nullable = true)\n",
      " |-- timestamp: timestamp (nullable = true)"
     ]
    }
   ],
   "source": [
    "log_data_df.printSchema()"
   ]
  },
  {
   "cell_type": "code",
   "execution_count": 26,
   "id": "2b7e1670-1ee0-4772-9296-05ca81d3e59a",
   "metadata": {
    "execution": {
     "iopub.execute_input": "2022-07-23T09:20:55.840678Z",
     "iopub.status.busy": "2022-07-23T09:20:55.840387Z",
     "iopub.status.idle": "2022-07-23T09:20:56.104988Z",
     "shell.execute_reply": "2022-07-23T09:20:56.104224Z",
     "shell.execute_reply.started": "2022-07-23T09:20:55.840641Z"
    },
    "tags": []
   },
   "outputs": [
    {
     "data": {
      "application/vnd.jupyter.widget-view+json": {
       "model_id": "8d959f3969844a54b7e90a6b6908aee6",
       "version_major": 2,
       "version_minor": 0
      },
      "text/plain": [
       "VBox()"
      ]
     },
     "metadata": {},
     "output_type": "display_data"
    },
    {
     "data": {
      "application/vnd.jupyter.widget-view+json": {
       "model_id": "",
       "version_major": 2,
       "version_minor": 0
      },
      "text/plain": [
       "FloatProgress(value=0.0, bar_style='info', description='Progress:', layout=Layout(height='25px', width='50%'),…"
      ]
     },
     "metadata": {},
     "output_type": "display_data"
    }
   ],
   "source": [
    "time_table = log_data_df.dropDuplicates([\"ts\"]).select(col(\"timestamp\").alias(\"start_time\"), hour(\"timestamp\").alias(\"hour\"), dayofmonth(\"timestamp\").alias(\"day\"),weekofyear(\"timestamp\").alias(\"week\"), month(\"timestamp\").alias(\"month\"), year(\"timestamp\").alias(\"year\"), dayofweek(\"timestamp\").alias(\"weekday\"))"
   ]
  },
  {
   "cell_type": "code",
   "execution_count": 27,
   "id": "43cbf9d9-7bf5-4e35-9cea-e987450bd370",
   "metadata": {
    "execution": {
     "iopub.execute_input": "2022-07-23T09:20:56.106088Z",
     "iopub.status.busy": "2022-07-23T09:20:56.105901Z",
     "iopub.status.idle": "2022-07-23T09:21:05.427776Z",
     "shell.execute_reply": "2022-07-23T09:21:05.427164Z",
     "shell.execute_reply.started": "2022-07-23T09:20:56.106065Z"
    },
    "tags": []
   },
   "outputs": [
    {
     "data": {
      "application/vnd.jupyter.widget-view+json": {
       "model_id": "bc3cd210ed2248108a067400ea991aef",
       "version_major": 2,
       "version_minor": 0
      },
      "text/plain": [
       "VBox()"
      ]
     },
     "metadata": {},
     "output_type": "display_data"
    },
    {
     "data": {
      "application/vnd.jupyter.widget-view+json": {
       "model_id": "",
       "version_major": 2,
       "version_minor": 0
      },
      "text/plain": [
       "FloatProgress(value=0.0, bar_style='info', description='Progress:', layout=Layout(height='25px', width='50%'),…"
      ]
     },
     "metadata": {},
     "output_type": "display_data"
    },
    {
     "name": "stdout",
     "output_type": "stream",
     "text": [
      "+--------------------+----+---+----+-----+----+-------+\n",
      "|          start_time|hour|day|week|month|year|weekday|\n",
      "+--------------------+----+---+----+-----+----+-------+\n",
      "|2018-11-15 15:37:...|  15| 15|  46|   11|2018|      5|\n",
      "|2018-11-21 05:40:...|   5| 21|  47|   11|2018|      4|\n",
      "|2018-11-28 09:35:...|   9| 28|  48|   11|2018|      4|\n",
      "|2018-11-15 10:24:...|  10| 15|  46|   11|2018|      5|\n",
      "|2018-11-15 22:27:...|  22| 15|  46|   11|2018|      5|\n",
      "+--------------------+----+---+----+-----+----+-------+\n",
      "only showing top 5 rows"
     ]
    }
   ],
   "source": [
    "time_table.show(5)"
   ]
  },
  {
   "cell_type": "code",
   "execution_count": 28,
   "id": "f7cdcc81-9f85-474f-b3df-c23a3b4146e6",
   "metadata": {
    "execution": {
     "iopub.execute_input": "2022-07-23T09:21:05.428860Z",
     "iopub.status.busy": "2022-07-23T09:21:05.428633Z",
     "iopub.status.idle": "2022-07-23T09:21:08.739401Z",
     "shell.execute_reply": "2022-07-23T09:21:08.738734Z",
     "shell.execute_reply.started": "2022-07-23T09:21:05.428837Z"
    },
    "tags": []
   },
   "outputs": [
    {
     "data": {
      "application/vnd.jupyter.widget-view+json": {
       "model_id": "fd5db742f97d4e3fa8c8eb2dee5b0e14",
       "version_major": 2,
       "version_minor": 0
      },
      "text/plain": [
       "VBox()"
      ]
     },
     "metadata": {},
     "output_type": "display_data"
    },
    {
     "data": {
      "application/vnd.jupyter.widget-view+json": {
       "model_id": "",
       "version_major": 2,
       "version_minor": 0
      },
      "text/plain": [
       "FloatProgress(value=0.0, bar_style='info', description='Progress:', layout=Layout(height='25px', width='50%'),…"
      ]
     },
     "metadata": {},
     "output_type": "display_data"
    }
   ],
   "source": [
    "time_table.write.partitionBy(\"year\", \"month\").mode(\"overwrite\").parquet(f\"{olap_tables_path}/time_table.parquet\")"
   ]
  },
  {
   "cell_type": "markdown",
   "id": "43f93fba-3e22-47de-9e01-410ee038ab58",
   "metadata": {},
   "source": [
    "### Create songplays_table"
   ]
  },
  {
   "cell_type": "code",
   "execution_count": 29,
   "id": "d5bbe0b3-74ca-4a14-a57c-7c112ffb72ab",
   "metadata": {
    "execution": {
     "iopub.execute_input": "2022-07-23T09:21:08.741066Z",
     "iopub.status.busy": "2022-07-23T09:21:08.740589Z",
     "iopub.status.idle": "2022-07-23T09:21:09.006085Z",
     "shell.execute_reply": "2022-07-23T09:21:09.005471Z",
     "shell.execute_reply.started": "2022-07-23T09:21:08.741025Z"
    },
    "tags": []
   },
   "outputs": [
    {
     "data": {
      "application/vnd.jupyter.widget-view+json": {
       "model_id": "4a84fe50cac140aa8cd9dd692ace1e5c",
       "version_major": 2,
       "version_minor": 0
      },
      "text/plain": [
       "VBox()"
      ]
     },
     "metadata": {},
     "output_type": "display_data"
    },
    {
     "data": {
      "application/vnd.jupyter.widget-view+json": {
       "model_id": "",
       "version_major": 2,
       "version_minor": 0
      },
      "text/plain": [
       "FloatProgress(value=0.0, bar_style='info', description='Progress:', layout=Layout(height='25px', width='50%'),…"
      ]
     },
     "metadata": {},
     "output_type": "display_data"
    }
   ],
   "source": [
    "songplays_table = log_data_df.join(song_data_df, (log_data_df.song == song_data_df.title) & (log_data_df.artist == song_data_df.artist_name)).select(monotonically_increasing_id().alias('songplay_id'), col('timestamp').alias('start_time'), year('timestamp').alias('year'),month('timestamp').alias('month'),col('userId').alias('user_id'), 'level', 'song_id','artist_id', col('sessionId').alias('session_id'),'location', col('userAgent').alias('user_agent'))"
   ]
  },
  {
   "cell_type": "code",
   "execution_count": 30,
   "id": "b72182ce-ce2d-47ef-a5aa-682f3ba49b3a",
   "metadata": {
    "execution": {
     "iopub.execute_input": "2022-07-23T09:21:09.009337Z",
     "iopub.status.busy": "2022-07-23T09:21:09.009115Z",
     "iopub.status.idle": "2022-07-23T09:23:10.788058Z",
     "shell.execute_reply": "2022-07-23T09:23:10.783501Z",
     "shell.execute_reply.started": "2022-07-23T09:21:09.009304Z"
    },
    "tags": []
   },
   "outputs": [
    {
     "data": {
      "application/vnd.jupyter.widget-view+json": {
       "model_id": "c2b8719fe053426b8d0f5f0a662031b5",
       "version_major": 2,
       "version_minor": 0
      },
      "text/plain": [
       "VBox()"
      ]
     },
     "metadata": {},
     "output_type": "display_data"
    },
    {
     "data": {
      "application/vnd.jupyter.widget-view+json": {
       "model_id": "",
       "version_major": 2,
       "version_minor": 0
      },
      "text/plain": [
       "FloatProgress(value=0.0, bar_style='info', description='Progress:', layout=Layout(height='25px', width='50%'),…"
      ]
     },
     "metadata": {},
     "output_type": "display_data"
    },
    {
     "name": "stdout",
     "output_type": "stream",
     "text": [
      "+-----------+--------------------+----+-----+-------+-----+------------------+------------------+----------+--------------------+--------------------+\n",
      "|songplay_id|          start_time|year|month|user_id|level|           song_id|         artist_id|session_id|            location|          user_agent|\n",
      "+-----------+--------------------+----+-----+-------+-----+------------------+------------------+----------+--------------------+--------------------+\n",
      "|          0|2018-11-15 07:31:...|2018|   11|     49| paid|SOCUITT12AB0187A32|ARKS2FE1187B99325D|       606|San Francisco-Oak...|Mozilla/5.0 (Wind...|\n",
      "|          1|2018-11-15 10:44:...|2018|   11|     80| paid|SOSDZFY12A8C143718|AR748W61187B9B6AB8|       611|Portland-South Po...|\"Mozilla/5.0 (Mac...|\n",
      "|          2|2018-11-15 10:48:...|2018|   11|     80| paid|SOTNWCI12AAF3B2028|ARS54I31187FB46721|       611|Portland-South Po...|\"Mozilla/5.0 (Mac...|\n",
      "|          3|2018-11-15 10:52:...|2018|   11|     80| paid|SOBONKR12A58A7A7E0|AR5E44Z1187B9A1D74|       611|Portland-South Po...|\"Mozilla/5.0 (Mac...|\n",
      "|          4|2018-11-15 11:11:...|2018|   11|     80| paid|SOLZOBD12AB0185720|ARPDVPJ1187B9ADBE9|       611|Portland-South Po...|\"Mozilla/5.0 (Mac...|\n",
      "+-----------+--------------------+----+-----+-------+-----+------------------+------------------+----------+--------------------+--------------------+\n",
      "only showing top 5 rows"
     ]
    }
   ],
   "source": [
    "songplays_table.show(5)"
   ]
  },
  {
   "cell_type": "code",
   "execution_count": 31,
   "id": "fe7a1aeb-6f37-478d-8198-9c937a7b695f",
   "metadata": {
    "execution": {
     "iopub.execute_input": "2022-07-23T09:23:10.789149Z",
     "iopub.status.busy": "2022-07-23T09:23:10.788976Z",
     "iopub.status.idle": "2022-07-23T09:25:04.397455Z",
     "shell.execute_reply": "2022-07-23T09:25:04.396848Z",
     "shell.execute_reply.started": "2022-07-23T09:23:10.789126Z"
    },
    "tags": []
   },
   "outputs": [
    {
     "data": {
      "application/vnd.jupyter.widget-view+json": {
       "model_id": "b524f4b0c9154a0e8ea1b5672d05ae13",
       "version_major": 2,
       "version_minor": 0
      },
      "text/plain": [
       "VBox()"
      ]
     },
     "metadata": {},
     "output_type": "display_data"
    },
    {
     "data": {
      "application/vnd.jupyter.widget-view+json": {
       "model_id": "",
       "version_major": 2,
       "version_minor": 0
      },
      "text/plain": [
       "FloatProgress(value=0.0, bar_style='info', description='Progress:', layout=Layout(height='25px', width='50%'),…"
      ]
     },
     "metadata": {},
     "output_type": "display_data"
    }
   ],
   "source": [
    "songplays_table.write.partitionBy(\"year\", \"month\").mode(\"overwrite\").parquet(f\"{olap_tables_path}/songplays_table.parquet\")"
   ]
  },
  {
   "cell_type": "markdown",
   "id": "e4a35b00-0582-4a76-bb35-bcfad443e316",
   "metadata": {},
   "source": [
    "## Analytics query example"
   ]
  },
  {
   "cell_type": "code",
   "execution_count": 32,
   "id": "c33d5f4b-6042-41c3-b993-6748c2b57de8",
   "metadata": {
    "execution": {
     "iopub.execute_input": "2022-07-23T09:25:40.288376Z",
     "iopub.status.busy": "2022-07-23T09:25:40.288159Z",
     "iopub.status.idle": "2022-07-23T09:25:40.550693Z",
     "shell.execute_reply": "2022-07-23T09:25:40.550046Z",
     "shell.execute_reply.started": "2022-07-23T09:25:40.288352Z"
    }
   },
   "outputs": [
    {
     "data": {
      "application/vnd.jupyter.widget-view+json": {
       "model_id": "b7b90ea296724d1bb6cfb12eb763465a",
       "version_major": 2,
       "version_minor": 0
      },
      "text/plain": [
       "VBox()"
      ]
     },
     "metadata": {},
     "output_type": "display_data"
    },
    {
     "data": {
      "application/vnd.jupyter.widget-view+json": {
       "model_id": "",
       "version_major": 2,
       "version_minor": 0
      },
      "text/plain": [
       "FloatProgress(value=0.0, bar_style='info', description='Progress:', layout=Layout(height='25px', width='50%'),…"
      ]
     },
     "metadata": {},
     "output_type": "display_data"
    }
   ],
   "source": [
    "songplays_table.createOrReplaceTempView(\"songplays_table\")\n",
    "artists_table.createOrReplaceTempView(\"artists_table\")"
   ]
  },
  {
   "cell_type": "code",
   "execution_count": 34,
   "id": "6184b191-69e6-4aac-9a7f-26a779f78582",
   "metadata": {
    "execution": {
     "iopub.execute_input": "2022-07-23T09:26:00.034465Z",
     "iopub.status.busy": "2022-07-23T09:26:00.034241Z",
     "iopub.status.idle": "2022-07-23T09:26:00.291633Z",
     "shell.execute_reply": "2022-07-23T09:26:00.291019Z",
     "shell.execute_reply.started": "2022-07-23T09:26:00.034441Z"
    },
    "tags": []
   },
   "outputs": [
    {
     "data": {
      "application/vnd.jupyter.widget-view+json": {
       "model_id": "76bdbcfd8d7a4fb9b871affc90224dc1",
       "version_major": 2,
       "version_minor": 0
      },
      "text/plain": [
       "VBox()"
      ]
     },
     "metadata": {},
     "output_type": "display_data"
    },
    {
     "data": {
      "application/vnd.jupyter.widget-view+json": {
       "model_id": "",
       "version_major": 2,
       "version_minor": 0
      },
      "text/plain": [
       "FloatProgress(value=0.0, bar_style='info', description='Progress:', layout=Layout(height='25px', width='50%'),…"
      ]
     },
     "metadata": {},
     "output_type": "display_data"
    }
   ],
   "source": [
    "result=spark.sql('''\n",
    "SELECT artists_table.artist_id as id,\n",
    "    artists_table.name as artist_name,\n",
    "    count(artists_table.artist_id) as count\n",
    "FROM artists_table JOIN songplays_table\n",
    "    ON artists_table.artist_id=songplays_table.artist_id\n",
    "GROUP BY id, artist_name\n",
    "ORDER BY count desc\n",
    "LIMIT 10\n",
    "    ''')"
   ]
  },
  {
   "cell_type": "code",
   "execution_count": 35,
   "id": "2e387a12-64e3-4d27-8414-78e873135c08",
   "metadata": {
    "execution": {
     "iopub.execute_input": "2022-07-23T09:26:05.360839Z",
     "iopub.status.busy": "2022-07-23T09:26:05.360582Z",
     "iopub.status.idle": "2022-07-23T09:29:39.321673Z",
     "shell.execute_reply": "2022-07-23T09:29:39.321068Z",
     "shell.execute_reply.started": "2022-07-23T09:26:05.360815Z"
    }
   },
   "outputs": [
    {
     "data": {
      "application/vnd.jupyter.widget-view+json": {
       "model_id": "17ee3bf499c7469fa849dacd4ee75d96",
       "version_major": 2,
       "version_minor": 0
      },
      "text/plain": [
       "VBox()"
      ]
     },
     "metadata": {},
     "output_type": "display_data"
    },
    {
     "data": {
      "application/vnd.jupyter.widget-view+json": {
       "model_id": "",
       "version_major": 2,
       "version_minor": 0
      },
      "text/plain": [
       "FloatProgress(value=0.0, bar_style='info', description='Progress:', layout=Layout(height='25px', width='50%'),…"
      ]
     },
     "metadata": {},
     "output_type": "display_data"
    },
    {
     "name": "stdout",
     "output_type": "stream",
     "text": [
      "+------------------+--------------------+-----+\n",
      "|                id|         artist_name|count|\n",
      "+------------------+--------------------+-----+\n",
      "|AR5E44Z1187B9A1D74|       Dwight Yoakam|   37|\n",
      "|ARD46C811C8A414F3F|Kid Cudi / Kanye ...|   10|\n",
      "|AR37SX11187FB3E164|          Ron Carter|    9|\n",
      "|AR5EYTL1187B98EDA0|       Lonnie Gordon|    9|\n",
      "|ARKQQZA12086C116FC|               B.o.B|    8|\n",
      "|ARR3ONV1187B9A2F59|                Muse|    6|\n",
      "|ARPDVPJ1187B9ADBE9|Usher featuring J...|    6|\n",
      "|ARM0P6Z1187FB4D466|      Arctic Monkeys|    5|\n",
      "|ARPN0Y61187B9ABAA0|          The Smiths|    4|\n",
      "|ARVLXWP1187FB5B94A|     matchbox twenty|    4|\n",
      "+------------------+--------------------+-----+"
     ]
    }
   ],
   "source": [
    "result.show()"
   ]
  },
  {
   "cell_type": "code",
   "execution_count": null,
   "id": "34255f8c-2b33-4a7c-92c5-d575ab91b88d",
   "metadata": {},
   "outputs": [],
   "source": []
  }
 ],
 "metadata": {
  "kernelspec": {
   "display_name": "PySpark",
   "language": "python",
   "name": "pysparkkernel"
  },
  "language_info": {
   "codemirror_mode": {
    "name": "python",
    "version": 3
   },
   "file_extension": ".py",
   "mimetype": "text/x-python",
   "name": "pyspark",
   "pygments_lexer": "python3"
  }
 },
 "nbformat": 4,
 "nbformat_minor": 5
}
